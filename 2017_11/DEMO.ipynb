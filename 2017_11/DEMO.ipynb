{
 "cells": [
  {
   "cell_type": "code",
   "execution_count": 48,
   "metadata": {
    "collapsed": true
   },
   "outputs": [],
   "source": [
    "from pgmpy.factors.discrete import TabularCPD\n",
    "from pgmpy.models import BayesianModel"
   ]
  },
  {
   "cell_type": "markdown",
   "metadata": {},
   "source": [
    "# Setting up your model"
   ]
  },
  {
   "cell_type": "markdown",
   "metadata": {},
   "source": [
    "### First, set the structure"
   ]
  },
  {
   "cell_type": "code",
   "execution_count": 49,
   "metadata": {
    "collapsed": true
   },
   "outputs": [],
   "source": [
    "olympic_model = BayesianModel([('Genetics', 'OlympicTrials'),\n",
    "                             ('Practice', 'OlympicTrials'),\n",
    "                             ('OlympicTrials', 'Offer')])"
   ]
  },
  {
   "cell_type": "code",
   "execution_count": 50,
   "metadata": {},
   "outputs": [
    {
     "data": {
      "text/plain": [
       "{'_adj': {'Genetics': {'OlympicTrials': {'weight': None}},\n",
       "  'Offer': {},\n",
       "  'OlympicTrials': {'Offer': {'weight': None}},\n",
       "  'Practice': {'OlympicTrials': {'weight': None}}},\n",
       " '_node': {'Genetics': {}, 'Offer': {}, 'OlympicTrials': {}, 'Practice': {}},\n",
       " '_pred': {'Genetics': {},\n",
       "  'Offer': {'OlympicTrials': {'weight': None}},\n",
       "  'OlympicTrials': {'Genetics': {'weight': None},\n",
       "   'Practice': {'weight': None}},\n",
       "  'Practice': {}},\n",
       " '_succ': {'Genetics': {'OlympicTrials': {'weight': None}},\n",
       "  'Offer': {},\n",
       "  'OlympicTrials': {'Offer': {'weight': None}},\n",
       "  'Practice': {'OlympicTrials': {'weight': None}}},\n",
       " 'adjlist_inner_dict_factory': dict,\n",
       " 'adjlist_outer_dict_factory': dict,\n",
       " 'cardinalities': defaultdict(int, {}),\n",
       " 'cpds': [],\n",
       " 'edge_attr_dict_factory': dict,\n",
       " 'graph': {},\n",
       " 'node_dict_factory': dict,\n",
       " 'nodes': NodeView(('Genetics', 'OlympicTrials', 'Practice', 'Offer')),\n",
       " 'root_graph': <pgmpy.models.BayesianModel.BayesianModel at 0x118d2fda0>}"
      ]
     },
     "execution_count": 50,
     "metadata": {},
     "output_type": "execute_result"
    }
   ],
   "source": [
    "olympic_model.__dict__"
   ]
  },
  {
   "cell_type": "markdown",
   "metadata": {},
   "source": [
    "### Then set up the relationships (the CPDs)"
   ]
  },
  {
   "cell_type": "code",
   "execution_count": 51,
   "metadata": {
    "collapsed": true
   },
   "outputs": [],
   "source": [
    "genetics_cpd = TabularCPD(\n",
    "                variable = 'Genetics',\n",
    "                variable_card = 2,\n",
    "                values = [[.2,.8]])"
   ]
  },
  {
   "cell_type": "code",
   "execution_count": 52,
   "metadata": {
    "collapsed": true
   },
   "outputs": [],
   "source": [
    "practice_cpd = TabularCPD(\n",
    "                variable = 'Practice',\n",
    "                variable_card = 2,\n",
    "                values = [[.7,.3]])"
   ]
  },
  {
   "cell_type": "code",
   "execution_count": 53,
   "metadata": {
    "collapsed": true
   },
   "outputs": [],
   "source": [
    "offer_cpd = TabularCPD(\n",
    "                    variable = 'Offer',\n",
    "                    variable_card = 2,\n",
    "                    values = [[.95, .8, .5],\n",
    "                             [.05, .2, .5]],\n",
    "                    evidence = ['OlympicTrials'],\n",
    "                    evidence_card = [3])"
   ]
  },
  {
   "cell_type": "code",
   "execution_count": 54,
   "metadata": {
    "collapsed": true
   },
   "outputs": [],
   "source": [
    "olympic_trials_cpd = TabularCPD(\n",
    "                        variable = 'OlympicTrials', \n",
    "                        variable_card = 3,\n",
    "                        values = [[.5, .8, .8, .9],\n",
    "                                 [.3, .15, .1, .08],\n",
    "                                 [.2, .05, .1, .02]],\n",
    "                        evidence = ['Genetics', 'Practice'],\n",
    "                        evidence_card = [2,2])"
   ]
  },
  {
   "cell_type": "markdown",
   "metadata": {},
   "source": [
    "### Add the relationships to your models"
   ]
  },
  {
   "cell_type": "code",
   "execution_count": 56,
   "metadata": {},
   "outputs": [
    {
     "name": "stderr",
     "output_type": "stream",
     "text": [
      "WARNING:root:Replacing existing CPD for Genetics\n",
      "WARNING:root:Replacing existing CPD for Practice\n",
      "WARNING:root:Replacing existing CPD for Offer\n",
      "WARNING:root:Replacing existing CPD for OlympicTrials\n"
     ]
    }
   ],
   "source": [
    "olympic_model.add_cpds (genetics_cpd, practice_cpd, offer_cpd, olympic_trials_cpd)"
   ]
  },
  {
   "cell_type": "markdown",
   "metadata": {},
   "source": [
    "### Examine the structure of your graph"
   ]
  },
  {
   "cell_type": "code",
   "execution_count": 57,
   "metadata": {},
   "outputs": [
    {
     "data": {
      "text/plain": [
       "[<TabularCPD representing P(Genetics:2) at 0x118d2f588>,\n",
       " <TabularCPD representing P(Practice:2) at 0x118d2f7f0>,\n",
       " <TabularCPD representing P(Offer:2 | OlympicTrials:3) at 0x118d46668>,\n",
       " <TabularCPD representing P(OlympicTrials:3 | Genetics:2, Practice:2) at 0x118d464a8>]"
      ]
     },
     "execution_count": 57,
     "metadata": {},
     "output_type": "execute_result"
    }
   ],
   "source": [
    "olympic_model.get_cpds()"
   ]
  },
  {
   "cell_type": "markdown",
   "metadata": {},
   "source": [
    "### Find active trail nodes"
   ]
  },
  {
   "cell_type": "code",
   "execution_count": 58,
   "metadata": {},
   "outputs": [
    {
     "data": {
      "text/plain": [
       "{'Genetics': {'Genetics', 'Offer', 'OlympicTrials'}}"
      ]
     },
     "execution_count": 58,
     "metadata": {},
     "output_type": "execute_result"
    }
   ],
   "source": [
    "olympic_model.active_trail_nodes('Genetics')"
   ]
  },
  {
   "cell_type": "code",
   "execution_count": 59,
   "metadata": {},
   "outputs": [
    {
     "data": {
      "text/plain": [
       "{'OlympicTrials': {'Genetics', 'Offer', 'OlympicTrials', 'Practice'}}"
      ]
     },
     "execution_count": 59,
     "metadata": {},
     "output_type": "execute_result"
    }
   ],
   "source": [
    "olympic_model.active_trail_nodes('OlympicTrials')"
   ]
  },
  {
   "cell_type": "code",
   "execution_count": 60,
   "metadata": {},
   "outputs": [
    {
     "data": {
      "text/plain": [
       "{'OlympicTrials': {'Offer', 'OlympicTrials', 'Practice'}}"
      ]
     },
     "execution_count": 60,
     "metadata": {},
     "output_type": "execute_result"
    }
   ],
   "source": [
    "olympic_model.active_trail_nodes('OlympicTrials', observed = 'Genetics')"
   ]
  },
  {
   "cell_type": "markdown",
   "metadata": {},
   "source": [
    "### active trail nodes change depending on what you know"
   ]
  },
  {
   "cell_type": "code",
   "execution_count": 61,
   "metadata": {},
   "outputs": [
    {
     "data": {
      "text/plain": [
       "{'Genetics': {'Genetics', 'Offer', 'OlympicTrials'}}"
      ]
     },
     "execution_count": 61,
     "metadata": {},
     "output_type": "execute_result"
    }
   ],
   "source": [
    "olympic_model.active_trail_nodes('Genetics')"
   ]
  },
  {
   "cell_type": "code",
   "execution_count": 62,
   "metadata": {},
   "outputs": [
    {
     "data": {
      "text/plain": [
       "{'Genetics': {'Genetics', 'OlympicTrials', 'Practice'}}"
      ]
     },
     "execution_count": 62,
     "metadata": {},
     "output_type": "execute_result"
    }
   ],
   "source": [
    "olympic_model.active_trail_nodes('Genetics', observed = 'Offer') # notice that practice comes in"
   ]
  },
  {
   "cell_type": "markdown",
   "metadata": {},
   "source": [
    "### Get all independencies"
   ]
  },
  {
   "cell_type": "code",
   "execution_count": 63,
   "metadata": {},
   "outputs": [
    {
     "data": {
      "text/plain": [
       "(Genetics _|_ Practice)\n",
       "(Genetics _|_ Offer | OlympicTrials)\n",
       "(Genetics _|_ Offer | OlympicTrials, Practice)\n",
       "(Practice _|_ Genetics)\n",
       "(Practice _|_ Offer | OlympicTrials)\n",
       "(Practice _|_ Offer | OlympicTrials, Genetics)\n",
       "(Offer _|_ Practice, Genetics | OlympicTrials)\n",
       "(Offer _|_ Genetics | OlympicTrials, Practice)\n",
       "(Offer _|_ Practice | OlympicTrials, Genetics)"
      ]
     },
     "execution_count": 63,
     "metadata": {},
     "output_type": "execute_result"
    }
   ],
   "source": [
    "olympic_model.get_independencies()"
   ]
  },
  {
   "cell_type": "markdown",
   "metadata": {},
   "source": [
    "# Making inferences"
   ]
  },
  {
   "cell_type": "markdown",
   "metadata": {},
   "source": [
    "### We can get probability distributions that are not explicitly spelled out in our graphs, \n",
    "### in particular the marginal distribution"
   ]
  },
  {
   "cell_type": "code",
   "execution_count": 64,
   "metadata": {
    "collapsed": true
   },
   "outputs": [],
   "source": [
    "from pgmpy.inference import VariableElimination"
   ]
  },
  {
   "cell_type": "code",
   "execution_count": 65,
   "metadata": {
    "collapsed": true
   },
   "outputs": [],
   "source": [
    "olympic_infer = VariableElimination(olympic_model)"
   ]
  },
  {
   "cell_type": "code",
   "execution_count": 66,
   "metadata": {},
   "outputs": [
    {
     "name": "stdout",
     "output_type": "stream",
     "text": [
      "╒═════════╤══════════════╕\n",
      "│ Offer   │   phi(Offer) │\n",
      "╞═════════╪══════════════╡\n",
      "│ Offer_0 │       0.8898 │\n",
      "├─────────┼──────────────┤\n",
      "│ Offer_1 │       0.1102 │\n",
      "╘═════════╧══════════════╛\n"
     ]
    }
   ],
   "source": [
    "prob_offer = olympic_infer.query(variables = ['Offer'])\n",
    "print(prob_offer['Offer'])"
   ]
  },
  {
   "cell_type": "code",
   "execution_count": 67,
   "metadata": {},
   "outputs": [
    {
     "name": "stdout",
     "output_type": "stream",
     "text": [
      "╒════════════╤═════════════════╕\n",
      "│ Genetics   │   phi(Genetics) │\n",
      "╞════════════╪═════════════════╡\n",
      "│ Genetics_0 │          0.2000 │\n",
      "├────────────┼─────────────────┤\n",
      "│ Genetics_1 │          0.8000 │\n",
      "╘════════════╧═════════════════╛\n",
      "╒═════════╤══════════════╕\n",
      "│ Offer   │   phi(Offer) │\n",
      "╞═════════╪══════════════╡\n",
      "│ Offer_0 │       0.8898 │\n",
      "├─────────┼──────────────┤\n",
      "│ Offer_1 │       0.1102 │\n",
      "╘═════════╧══════════════╛\n"
     ]
    }
   ],
   "source": [
    "prob_offer_good_genes = olympic_infer.query(\n",
    "                                        variables = ['Offer', 'Genetics'])\n",
    "print(prob_offer_good_genes['Genetics'])\n",
    "print(prob_offer_good_genes['Offer'])"
   ]
  },
  {
   "cell_type": "code",
   "execution_count": 68,
   "metadata": {},
   "outputs": [
    {
     "name": "stdout",
     "output_type": "stream",
     "text": [
      "╒═════════════════╤══════════════════════╕\n",
      "│ OlympicTrials   │   phi(OlympicTrials) │\n",
      "╞═════════════════╪══════════════════════╡\n",
      "│ OlympicTrials_0 │               0.7820 │\n",
      "├─────────────────┼──────────────────────┤\n",
      "│ OlympicTrials_1 │               0.1262 │\n",
      "├─────────────────┼──────────────────────┤\n",
      "│ OlympicTrials_2 │               0.0918 │\n",
      "╘═════════════════╧══════════════════════╛\n",
      "╒═════════╤══════════════╕\n",
      "│ Offer   │   phi(Offer) │\n",
      "╞═════════╪══════════════╡\n",
      "│ Offer_0 │       0.8898 │\n",
      "├─────────┼──────────────┤\n",
      "│ Offer_1 │       0.1102 │\n",
      "╘═════════╧══════════════╛\n"
     ]
    }
   ],
   "source": [
    "prob_offer_good_genes = olympic_infer.query(\n",
    "                                        variables = ['Offer', 'OlympicTrials'])\n",
    "print(prob_offer_good_genes['OlympicTrials'])\n",
    "print(prob_offer_good_genes['Offer'])"
   ]
  },
  {
   "cell_type": "markdown",
   "metadata": {},
   "source": [
    "### We can also get conditional probability distributions that take into account what we already know"
   ]
  },
  {
   "cell_type": "code",
   "execution_count": 69,
   "metadata": {},
   "outputs": [
    {
     "name": "stdout",
     "output_type": "stream",
     "text": [
      "╒═════════╤══════════════╕\n",
      "│ Offer   │   phi(Offer) │\n",
      "╞═════════╪══════════════╡\n",
      "│ Offer_0 │       0.9017 │\n",
      "├─────────┼──────────────┤\n",
      "│ Offer_1 │       0.0983 │\n",
      "╘═════════╧══════════════╛\n"
     ]
    }
   ],
   "source": [
    "prob_offer_bad_genes = olympic_infer.query(\n",
    "                                        variables = ['Offer'], \n",
    "                                        evidence = {'Genetics':1})\n",
    "print(prob_offer_bad_genes['Offer'])"
   ]
  },
  {
   "cell_type": "code",
   "execution_count": 70,
   "metadata": {},
   "outputs": [
    {
     "name": "stdout",
     "output_type": "stream",
     "text": [
      "╒═════════╤══════════════╕\n",
      "│ Offer   │   phi(Offer) │\n",
      "╞═════════╪══════════════╡\n",
      "│ Offer_0 │       0.8420 │\n",
      "├─────────┼──────────────┤\n",
      "│ Offer_1 │       0.1580 │\n",
      "╘═════════╧══════════════╛\n"
     ]
    }
   ],
   "source": [
    "prob_offer_good_genes = olympic_infer.query(\n",
    "                                        variables = ['Offer'], \n",
    "                                        evidence = {'Genetics':0})\n",
    "print(prob_offer_good_genes['Offer'])"
   ]
  },
  {
   "cell_type": "code",
   "execution_count": 71,
   "metadata": {},
   "outputs": [
    {
     "name": "stdout",
     "output_type": "stream",
     "text": [
      "╒═════════╤══════════════╕\n",
      "│ Offer   │   phi(Offer) │\n",
      "╞═════════╪══════════════╡\n",
      "│ Offer_0 │       0.8150 │\n",
      "├─────────┼──────────────┤\n",
      "│ Offer_1 │       0.1850 │\n",
      "╘═════════╧══════════════╛\n"
     ]
    }
   ],
   "source": [
    "prob_offer_good_genes_did_practice = olympic_infer.query(\n",
    "                                        variables = ['Offer'], \n",
    "                                        evidence = {'Genetics':0, 'Practice':0})\n",
    "print(prob_offer_good_genes_did_practice['Offer'])"
   ]
  },
  {
   "cell_type": "markdown",
   "metadata": {},
   "source": [
    "### You can also go upstream logically. For example, evidence about performance at the Olympic Trials provides information about genetic distribution"
   ]
  },
  {
   "cell_type": "code",
   "execution_count": 72,
   "metadata": {},
   "outputs": [
    {
     "name": "stdout",
     "output_type": "stream",
     "text": [
      "╒════════════╤═════════════════╕\n",
      "│ Genetics   │   phi(Genetics) │\n",
      "╞════════════╪═════════════════╡\n",
      "│ Genetics_0 │          0.3377 │\n",
      "├────────────┼─────────────────┤\n",
      "│ Genetics_1 │          0.6623 │\n",
      "╘════════════╧═════════════════╛\n"
     ]
    }
   ],
   "source": [
    "prob_good_genes_if_amazing_olympic_trials = olympic_infer.query(\n",
    "                                        variables = ['Genetics'], \n",
    "                                        evidence = {'OlympicTrials':2})\n",
    "print(prob_good_genes_if_amazing_olympic_trials['Genetics'])\n",
    "# remember 0 = good genes"
   ]
  },
  {
   "cell_type": "markdown",
   "metadata": {},
   "source": [
    "### Some variables are only informative about other variables given 'third' variables"
   ]
  },
  {
   "cell_type": "code",
   "execution_count": 73,
   "metadata": {},
   "outputs": [
    {
     "name": "stdout",
     "output_type": "stream",
     "text": [
      "╒════════════╤═════════════════╕\n",
      "│ Genetics   │   phi(Genetics) │\n",
      "╞════════════╪═════════════════╡\n",
      "│ Genetics_0 │          0.2000 │\n",
      "├────────────┼─────────────────┤\n",
      "│ Genetics_1 │          0.8000 │\n",
      "╘════════════╧═════════════════╛\n"
     ]
    }
   ],
   "source": [
    "# Practice does not inherently tell us something about Genetics\n",
    "prob_good_genes_if_no_practice = olympic_infer.query(\n",
    "                                        variables = ['Genetics'], \n",
    "                                        evidence = {'Practice':1})\n",
    "print(prob_good_genes_if_no_practice['Genetics'])\n",
    "# probability distribution of genetics is no different from baseline distribution given information about practice"
   ]
  },
  {
   "cell_type": "code",
   "execution_count": 74,
   "metadata": {},
   "outputs": [
    {
     "name": "stdout",
     "output_type": "stream",
     "text": [
      "╒════════════╤═════════════════╕\n",
      "│ Genetics   │   phi(Genetics) │\n",
      "╞════════════╪═════════════════╡\n",
      "│ Genetics_0 │          0.3846 │\n",
      "├────────────┼─────────────────┤\n",
      "│ Genetics_1 │          0.6154 │\n",
      "╘════════════╧═════════════════╛\n"
     ]
    }
   ],
   "source": [
    "# BUT Practice does tell us something about genetics IF we also \n",
    "# know something about olympic trials performance\n",
    "prob_good_genes_if_no_practice_good_olympic_trials = olympic_infer.query(\n",
    "                                        variables = ['Genetics'], \n",
    "                                        evidence = {'Practice':1,\n",
    "                                                   'OlympicTrials':2})\n",
    "print(prob_good_genes_if_no_practice_good_olympic_trials['Genetics'])"
   ]
  },
  {
   "cell_type": "markdown",
   "metadata": {},
   "source": [
    "### Easy find out the most probable state for a variable\n",
    "### Note this is just a product of calculating the marginal probability distribution"
   ]
  },
  {
   "cell_type": "code",
   "execution_count": 75,
   "metadata": {},
   "outputs": [
    {
     "data": {
      "text/plain": [
       "{'Genetics': 1}"
      ]
     },
     "execution_count": 75,
     "metadata": {},
     "output_type": "execute_result"
    }
   ],
   "source": [
    "olympic_infer.map_query(variables = ['Genetics'])"
   ]
  },
  {
   "cell_type": "code",
   "execution_count": 76,
   "metadata": {},
   "outputs": [
    {
     "data": {
      "text/plain": [
       "{'Offer': 0}"
      ]
     },
     "execution_count": 76,
     "metadata": {},
     "output_type": "execute_result"
    }
   ],
   "source": [
    "olympic_infer.map_query(variables = ['Offer'])"
   ]
  },
  {
   "cell_type": "code",
   "execution_count": 77,
   "metadata": {},
   "outputs": [
    {
     "data": {
      "text/plain": [
       "{'OlympicTrials': 0}"
      ]
     },
     "execution_count": 77,
     "metadata": {},
     "output_type": "execute_result"
    }
   ],
   "source": [
    "olympic_infer.map_query(variables = ['OlympicTrials'])"
   ]
  },
  {
   "cell_type": "code",
   "execution_count": null,
   "metadata": {
    "collapsed": true
   },
   "outputs": [],
   "source": []
  }
 ],
 "metadata": {
  "kernelspec": {
   "display_name": "Python 3",
   "language": "python",
   "name": "python3"
  },
  "language_info": {
   "codemirror_mode": {
    "name": "ipython",
    "version": 3
   },
   "file_extension": ".py",
   "mimetype": "text/x-python",
   "name": "python",
   "nbconvert_exporter": "python",
   "pygments_lexer": "ipython3",
   "version": "3.6.3"
  },
  "widgets": {
   "state": {},
   "version": "1.1.1"
  }
 },
 "nbformat": 4,
 "nbformat_minor": 1
}
